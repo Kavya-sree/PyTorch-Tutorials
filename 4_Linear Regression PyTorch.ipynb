{
 "cells": [
  {
   "cell_type": "markdown",
   "id": "f8aa678a",
   "metadata": {},
   "source": [
    "# Linear Regression \n",
    "\n",
    "Linear Regression is a model that assumes a linear relationship between the one or more input variable (x) and output variable (y). \n",
    "\n",
    "The input variables are also known as independent variables while the output variable is called dependent variable. \n",
    "\n",
    "Simple Linear regression - If there is only one independent variable.\n",
    "\n",
    "Multiple Linear regression - If there is more than one independent variable.\n",
    "\n",
    "\n",
    "A Linear regression model is defined in terms of a linear function:\n",
    "\n",
    "$\\hat{y} = WX+ b$\n",
    "\n",
    "The above is a simple linear regression model with one input.\n",
    "\n",
    "$\\hat{y}$ - prediction\n",
    "\n",
    "$W$ - weights\n",
    "\n",
    "$X$ - inputs\n",
    "\n",
    "$b$ - bias term\n",
    "\n",
    "Our goal is to predict the output $\\hat{y}$ given the input $X$. The model will be a line of best fit that minimizes the distance between the predicted (model's output) and target (ground truth) values. Training data (X, y) is used to train the model and learn the weights W using gradient descent.\n",
    "\n",
    "Most of the code is taken from : https://towardsdatascience.com/understanding-pytorch-with-an-example-a-step-by-step-tutorial-81fc5f8c4e8e check out this tutorial!!"
   ]
  },
  {
   "cell_type": "markdown",
   "id": "9c86fc03",
   "metadata": {},
   "source": [
    "# Importing Libraries"
   ]
  },
  {
   "cell_type": "code",
   "execution_count": 1,
   "id": "1cfc86cc",
   "metadata": {},
   "outputs": [],
   "source": [
    "import pandas as pd\n",
    "import numpy as np\n",
    "import torch\n",
    "from torch import nn\n",
    "import torch.optim as optim\n",
    "\n",
    "from torch.utils.data import TensorDataset, DataLoader\n",
    "\n",
    "import matplotlib.pyplot as plt"
   ]
  },
  {
   "cell_type": "code",
   "execution_count": 2,
   "id": "73c94912",
   "metadata": {},
   "outputs": [],
   "source": [
    "device = 'cuda' if torch.cuda.is_available() else 'cpu'"
   ]
  },
  {
   "cell_type": "markdown",
   "id": "d6f13b90",
   "metadata": {},
   "source": [
    "# Generate data\n",
    "\n",
    "Let’s generate some synthetic data for simple linear regression. \n",
    "We start with a vector of 100 data points for our feature X and create our labels using W = 3, b = 1 and some Gaussian noise."
   ]
  },
  {
   "cell_type": "code",
   "execution_count": 3,
   "id": "044d28b6",
   "metadata": {},
   "outputs": [
    {
     "data": {
      "text/plain": [
       "<torch._C.Generator at 0x2468089d250>"
      ]
     },
     "execution_count": 3,
     "metadata": {},
     "output_type": "execute_result"
    }
   ],
   "source": [
    "NUM_SAMPLES = 100\n",
    "\n",
    "# Set seed for reproducibility\n",
    "torch.manual_seed(123)"
   ]
  },
  {
   "cell_type": "code",
   "execution_count": 4,
   "id": "86df5014",
   "metadata": {},
   "outputs": [],
   "source": [
    "# Generate synthetic data\n",
    "def generate_data(num_samples):\n",
    "    \"\"\"Generate dummy data for linear regression.\"\"\"\n",
    "    X = torch.randn(num_samples, 1)\n",
    "    random_noise = 0.1 * torch.randn(num_samples, 1)\n",
    "    y = 3 * X + 1 + random_noise \n",
    "    return X, y"
   ]
  },
  {
   "cell_type": "code",
   "execution_count": 5,
   "id": "519e52b7",
   "metadata": {},
   "outputs": [],
   "source": [
    "# Generate random (linear) data\n",
    "X, y = generate_data(num_samples=NUM_SAMPLES)"
   ]
  },
  {
   "cell_type": "code",
   "execution_count": 6,
   "id": "226bb2cd",
   "metadata": {},
   "outputs": [
    {
     "data": {
      "image/png": "[encoded data removed]",
      "text/plain": [
       "<Figure size 640x480 with 1 Axes>"
      ]
     },
     "metadata": {},
     "output_type": "display_data"
    }
   ],
   "source": [
    "# Plots the X and y data points we created\n",
    "plt.title(\"Generated data\")\n",
    "plt.scatter(X, y, c = torch.rand(NUM_SAMPLES), alpha=0.5)\n",
    "plt.show()"
   ]
  },
  {
   "cell_type": "markdown",
   "id": "a60e62c9",
   "metadata": {},
   "source": [
    " # TensorDataset\n",
    " \n",
    "Dataset wrapping tensors.\n",
    "(Each sample will be retrieved by indexing tensors along the first dimension.)\n",
    "\n",
    "Since a dataset is just a couple of tensors, we can use PyTorch’s TensorDataset class, instead of using a custom dataset class."
   ]
  },
  {
   "cell_type": "code",
   "execution_count": 7,
   "id": "bf03e068",
   "metadata": {},
   "outputs": [],
   "source": [
    "dataset = TensorDataset(X, y)"
   ]
  },
  {
   "cell_type": "markdown",
   "id": "68795129",
   "metadata": {},
   "source": [
    "# Split data\n"
   ]
  },
  {
   "cell_type": "code",
   "execution_count": 8,
   "id": "6bca8c37",
   "metadata": {},
   "outputs": [],
   "source": [
    "from torch.utils.data.dataset import random_split\n",
    "\n",
    "train_size = int(0.8 * len(dataset))\n",
    "val_size = len(dataset) - train_size\n",
    "\n",
    "# Splits randomly into train and validation datasets\n",
    "train_dataset, val_dataset = random_split(dataset, [train_size, val_size])"
   ]
  },
  {
   "cell_type": "code",
   "execution_count": 9,
   "id": "fbee1d00",
   "metadata": {},
   "outputs": [],
   "source": [
    "# Builds a loader for each dataset to perform mini-batch gradient descent\n",
    "train_loader = DataLoader(dataset=train_dataset, batch_size=4)\n",
    "val_loader = DataLoader(dataset=val_dataset, batch_size=4)"
   ]
  },
  {
   "cell_type": "markdown",
   "id": "febab002",
   "metadata": {},
   "source": [
    "# Define Linear Regression Model\n",
    "\n",
    "* In PyTorch, a model is represented by a regular Python class that inherits from the `Module` class.\n",
    "    * `Module` - Base class for all neural network modules.\n",
    "\n",
    "* The `__init__` method lets the class initialize the modules parameters. We define two parameters, W and b, using the Parameter()\n",
    "* The parameter (weights and bias) require computation of its gradients to update its value. For that we need to set `requires_grad=True`. \n",
    "* `forward(self, x)`: This is where the actual prediction happens. Here we define how our model is going to be run from input to output\n"
   ]
  },
  {
   "cell_type": "code",
   "execution_count": 10,
   "id": "74ca10dd",
   "metadata": {},
   "outputs": [],
   "source": [
    "class LinearRegression(nn.Module):\n",
    "    def __init__(self):\n",
    "        super().__init__()\n",
    "        # To make \"a\" and \"b\" real parameters of the model, we need to wrap them with nn.Parameter\n",
    "        self.W = nn.Parameter(torch.randn(1, requires_grad=True, dtype=torch.float))\n",
    "        self.b = nn.Parameter(torch.randn(1, requires_grad=True, dtype=torch.float))\n",
    "        \n",
    "    def forward(self, x):\n",
    "        # Computes the outputs / predictions\n",
    "        return self.W * x + self.b"
   ]
  },
  {
   "cell_type": "markdown",
   "id": "741e4516",
   "metadata": {},
   "source": [
    "# Training step"
   ]
  },
  {
   "cell_type": "code",
   "execution_count": 11,
   "id": "76425d84",
   "metadata": {},
   "outputs": [],
   "source": [
    "def make_train_step(model, loss_fn, optimizer):\n",
    "    '''\n",
    "    Builds function that performs a step in the train loop\n",
    "    '''\n",
    "    def train_step(x, y):\n",
    "        # Sets model to TRAIN mode\n",
    "        model.train()\n",
    "        \n",
    "        # Makes predictions\n",
    "        y_pred = model(x)\n",
    "        \n",
    "        # Computes loss\n",
    "        loss = loss_fn(y, y_pred)\n",
    "        \n",
    "    \n",
    "        # Computes gradients\n",
    "        loss.backward()\n",
    "        \n",
    "    \n",
    "        # Updates parameters and zeroes gradients\n",
    "        optimizer.step()\n",
    "        optimizer.zero_grad()\n",
    "        \n",
    "        # Returns the loss\n",
    "        return loss.item()\n",
    "    \n",
    "    # Returns the function that will be called inside the train loop\n",
    "    return train_step"
   ]
  },
  {
   "cell_type": "markdown",
   "id": "a2567ecd",
   "metadata": {},
   "source": [
    "# Train Linear Regression model"
   ]
  },
  {
   "cell_type": "code",
   "execution_count": 12,
   "id": "ac6d2fe9",
   "metadata": {},
   "outputs": [
    {
     "name": "stdout",
     "output_type": "stream",
     "text": [
      "Epoch: 0 | Training loss: 0.76 | Validation loss: 0.01\n",
      "Epoch: 5 | Training loss: 0.14 | Validation loss: 0.01\n",
      "Epoch: 10 | Training loss: 0.08 | Validation loss: 0.01\n",
      "Epoch: 15 | Training loss: 0.06 | Validation loss: 0.01\n",
      "Epoch: 20 | Training loss: 0.05 | Validation loss: 0.01\n",
      "Epoch: 25 | Training loss: 0.04 | Validation loss: 0.01\n",
      "Epoch: 30 | Training loss: 0.04 | Validation loss: 0.01\n",
      "Epoch: 35 | Training loss: 0.03 | Validation loss: 0.01\n",
      "Epoch: 40 | Training loss: 0.03 | Validation loss: 0.01\n",
      "Epoch: 45 | Training loss: 0.03 | Validation loss: 0.01\n",
      "Epoch: 50 | Training loss: 0.03 | Validation loss: 0.01\n",
      "Epoch: 55 | Training loss: 0.03 | Validation loss: 0.01\n",
      "Epoch: 60 | Training loss: 0.02 | Validation loss: 0.01\n",
      "Epoch: 65 | Training loss: 0.02 | Validation loss: 0.01\n",
      "Epoch: 70 | Training loss: 0.02 | Validation loss: 0.01\n",
      "Epoch: 75 | Training loss: 0.02 | Validation loss: 0.01\n",
      "Epoch: 80 | Training loss: 0.02 | Validation loss: 0.01\n",
      "Epoch: 85 | Training loss: 0.02 | Validation loss: 0.01\n",
      "Epoch: 90 | Training loss: 0.02 | Validation loss: 0.01\n",
      "Epoch: 95 | Training loss: 0.02 | Validation loss: 0.01\n",
      "OrderedDict([('W', tensor([2.9923])), ('b', tensor([0.9931]))])\n"
     ]
    }
   ],
   "source": [
    "# Initialize model\n",
    "model = LinearRegression()\n",
    "\n",
    "\n",
    "# Sets hyper-parameters\n",
    "lr = 1e-1\n",
    "n_epochs = 100\n",
    "\n",
    "# Defines loss function \n",
    "loss_fn = nn.MSELoss(reduction='mean')\n",
    "\n",
    "# Defines optimizer\n",
    "optimizer = optim.SGD(model.parameters(), lr=lr)\n",
    "\n",
    "# Create empty loss lists to track values\n",
    "losses = []\n",
    "val_losses = []\n",
    "\n",
    "# Creates function to perform train step from model, loss and optimizer\n",
    "train_step = make_train_step(model, loss_fn, optimizer)\n",
    "\n",
    "# Training loop\n",
    "for epoch in range(n_epochs):\n",
    "    for x_batch, y_batch in train_loader:\n",
    "        loss = train_step(x_batch, y_batch)\n",
    "        losses.append(loss)\n",
    "        \n",
    "    # Evaluation\n",
    "    with torch.no_grad():\n",
    "        for x_val, y_val in val_loader:\n",
    "            model.eval()\n",
    "\n",
    "            y_pred = model(x_val)\n",
    "            val_loss = loss_fn(y_val, y_pred)\n",
    "            val_losses.append(val_loss)\n",
    "            \n",
    "    if epoch%5==0:\n",
    "        print (f\"Epoch: {epoch} | Training loss: {np.mean(losses):.2f} | Validation loss: {np.mean(val_losses):.2f}\")\n",
    "\n",
    "print(model.state_dict())"
   ]
  }
 ],
 "metadata": {
  "kernelspec": {
   "display_name": "Python 3 (ipykernel)",
   "language": "python",
   "name": "python3"
  },
  "language_info": {
   "codemirror_mode": {
    "name": "ipython",
    "version": 3
   },
   "file_extension": ".py",
   "mimetype": "text/x-python",
   "name": "python",
   "nbconvert_exporter": "python",
   "pygments_lexer": "ipython3",
   "version": "3.9.13"
  }
 },
 "nbformat": 4,
 "nbformat_minor": 5
}
