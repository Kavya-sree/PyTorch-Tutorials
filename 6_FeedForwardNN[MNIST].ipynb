{
 "cells": [
  {
   "cell_type": "code",
   "execution_count": 53,
   "id": "8bfa02b7-e2ef-48a2-8221-a06fb7eb15f2",
   "metadata": {
    "tags": []
   },
   "outputs": [],
   "source": [
    "import numpy as np\n",
    "\n",
    "import torch\n",
    "import torch.nn as nn\n",
    "import torchvision\n",
    "import torchvision.transforms as transforms\n",
    "import matplotlib.pyplot as plt"
   ]
  },
  {
   "cell_type": "code",
   "execution_count": 54,
   "id": "73f20e4c-a40f-4f23-ba72-8c638ab88c42",
   "metadata": {
    "tags": []
   },
   "outputs": [
    {
     "data": {
      "text/plain": [
       "device(type='cuda')"
      ]
     },
     "execution_count": 54,
     "metadata": {},
     "output_type": "execute_result"
    }
   ],
   "source": [
    "# Device configuration\n",
    "device = torch.device('cuda' if torch.cuda.is_available() else 'cpu')\n",
    "device"
   ]
  },
  {
   "cell_type": "code",
   "execution_count": 55,
   "id": "cc48e272-fd40-4416-ad08-dd293f5f5acb",
   "metadata": {},
   "outputs": [],
   "source": [
    "# Hyper-parameters\n",
    "VALID_SIZE = 0.1\n",
    "input_dim = 784     # 28x28\n",
    "hidden_dim = 500 \n",
    "output_dim = 10     # number of classes\n",
    "num_epochs = 5\n",
    "batch_size = 100\n",
    "learning_rate = 0.001"
   ]
  },
  {
   "cell_type": "markdown",
   "id": "d3d58728-9e27-4cf2-9e25-cf06743b99c5",
   "metadata": {},
   "source": [
    "# Loading MNIST dataset"
   ]
  },
  {
   "cell_type": "code",
   "execution_count": 56,
   "id": "afb13886-26ce-4e11-9639-db2b29deb944",
   "metadata": {
    "tags": []
   },
   "outputs": [],
   "source": [
    "# MNIST dataset \n",
    "train_dataset = torchvision.datasets.MNIST(root='./data', \n",
    "                                           train=True, \n",
    "                                           transform=transforms.ToTensor(),  \n",
    "                                           download=True)\n",
    "\n",
    "test_dataset = torchvision.datasets.MNIST(root='./data', \n",
    "                                          train=False, \n",
    "                                          transform=transforms.ToTensor())"
   ]
  },
  {
   "cell_type": "code",
   "execution_count": 57,
   "id": "db691fa3-887a-425e-be04-713cad18b6a2",
   "metadata": {
    "tags": []
   },
   "outputs": [],
   "source": [
    "# Add Validation data\n",
    "num_train = len(train_dataset)\n",
    "indices = list(range(num_train)) # get indices of train\n",
    "np.random.shuffle(indices)\n",
    "split = int(np.floor(VALID_SIZE * num_train))\n",
    "train_idx, valid_idx = indices[split:], indices[:split] # split data\n",
    "\n",
    "# define samplers for training and validation batches\n",
    "train_sampler = torch.utils.data.SubsetRandomSampler(train_idx)\n",
    "valid_sampler = torch.utils.data.SubsetRandomSampler(valid_idx)"
   ]
  },
  {
   "cell_type": "code",
   "execution_count": 58,
   "id": "83a8f34a-420f-4971-974c-bad56843fab3",
   "metadata": {
    "tags": []
   },
   "outputs": [],
   "source": [
    "# Data loader\n",
    "train_loader = torch.utils.data.DataLoader(\n",
    "    dataset=train_dataset,\n",
    "    batch_size=batch_size,\n",
    "    sampler=train_sampler\n",
    ")\n",
    "\n",
    "valid_loader = torch.utils.data.DataLoader(\n",
    "    dataset=train_dataset,\n",
    "    batch_size=batch_size,\n",
    "    sampler=valid_sampler\n",
    ")\n",
    "\n",
    "test_loader = torch.utils.data.DataLoader(\n",
    "    dataset=test_dataset, \n",
    "    batch_size=batch_size,\n",
    "    shuffle=False\n",
    ")"
   ]
  },
  {
   "cell_type": "code",
   "execution_count": 59,
   "id": "8620a7b9-5201-4325-b716-c875f44da70f",
   "metadata": {
    "tags": []
   },
   "outputs": [
    {
     "data": {
      "image/png": "[encoded data removed]",
      "text/plain": [
       "<Figure size 640x480 with 6 Axes>"
      ]
     },
     "metadata": {},
     "output_type": "display_data"
    }
   ],
   "source": [
    "examples = iter(train_loader)\n",
    "example_data, example_targets = next(examples)\n",
    "\n",
    "for i in range(6):\n",
    "    plt.subplot(2,3,i+1)\n",
    "    plt.imshow(example_data[i][0], cmap='gray')\n",
    "plt.show()"
   ]
  },
  {
   "cell_type": "code",
   "execution_count": 60,
   "id": "c05393b7-d95f-410f-aecb-3b6525bd560a",
   "metadata": {
    "tags": []
   },
   "outputs": [],
   "source": [
    "# Fully connected neural network with one hidden layer\n",
    "class FeedForwardNeuralNet(nn.Module):\n",
    "        def __init__(self, input_dim, hidden_dim, output_dim):\n",
    "            super(FeedForwardNeuralNet, self).__init__()\n",
    "            self.input_size = input_dim\n",
    "            # Linear function\n",
    "            self.l1 = nn.Linear(input_dim, hidden_dim) \n",
    "            # Non-linearity\n",
    "            self.tanh = nn.Tanh()\n",
    "            #Linear function\n",
    "            self.l2 = nn.Linear(hidden_dim, output_dim)\n",
    "        \n",
    "        \n",
    "        def forward(self, x):\n",
    "            out = self.l1(x)\n",
    "            out = self.tanh(out)\n",
    "            out = self.l2(out)\n",
    "            # no activation and no softmax at the end\n",
    "            return out\n",
    "    \n",
    "model = FeedForwardNeuralNet(input_dim, hidden_dim, output_dim).to(device)"
   ]
  },
  {
   "cell_type": "code",
   "execution_count": 61,
   "id": "4f3130ab-7630-41f7-be04-afede9153766",
   "metadata": {
    "tags": []
   },
   "outputs": [
    {
     "name": "stdout",
     "output_type": "stream",
     "text": [
      "FeedForwardNeuralNet(\n",
      "  (l1): Linear(in_features=784, out_features=500, bias=True)\n",
      "  (tanh): Tanh()\n",
      "  (l2): Linear(in_features=500, out_features=10, bias=True)\n",
      ")\n"
     ]
    }
   ],
   "source": [
    "print(model)"
   ]
  },
  {
   "cell_type": "code",
   "execution_count": 62,
   "id": "eb3de909-5b65-475c-8274-bfaf6f63f09b",
   "metadata": {
    "tags": []
   },
   "outputs": [],
   "source": [
    "# Loss and optimizer\n",
    "criterion = nn.CrossEntropyLoss()\n",
    "optimizer = torch.optim.Adam(model.parameters(), lr=learning_rate)  "
   ]
  },
  {
   "cell_type": "code",
   "execution_count": 63,
   "id": "178a231b-3db6-46d6-8e3c-839aafad7179",
   "metadata": {
    "tags": []
   },
   "outputs": [
    {
     "name": "stdout",
     "output_type": "stream",
     "text": [
      "Epoch [1/5], Batch [100/540], Loss: 0.0010\n",
      "Epoch [1/5], Batch [200/540], Loss: 0.0005\n",
      "Epoch [1/5], Batch [300/540], Loss: 0.0005\n",
      "Epoch [1/5], Batch [400/540], Loss: 0.0005\n",
      "Epoch [1/5], Batch [500/540], Loss: 0.0004\n",
      "Valid Epoch [1/5], Loss: 0.0002\n",
      "Epoch [2/5], Batch [100/540], Loss: 0.0003\n",
      "Epoch [2/5], Batch [200/540], Loss: 0.0003\n",
      "Epoch [2/5], Batch [300/540], Loss: 0.0003\n",
      "Epoch [2/5], Batch [400/540], Loss: 0.0003\n",
      "Epoch [2/5], Batch [500/540], Loss: 0.0003\n",
      "Valid Epoch [2/5], Loss: 0.0001\n",
      "Epoch [3/5], Batch [100/540], Loss: 0.0002\n",
      "Epoch [3/5], Batch [200/540], Loss: 0.0002\n",
      "Epoch [3/5], Batch [300/540], Loss: 0.0002\n",
      "Epoch [3/5], Batch [400/540], Loss: 0.0002\n",
      "Epoch [3/5], Batch [500/540], Loss: 0.0002\n",
      "Valid Epoch [3/5], Loss: 0.0001\n",
      "Epoch [4/5], Batch [100/540], Loss: 0.0002\n",
      "Epoch [4/5], Batch [200/540], Loss: 0.0001\n",
      "Epoch [4/5], Batch [300/540], Loss: 0.0002\n",
      "Epoch [4/5], Batch [400/540], Loss: 0.0001\n",
      "Epoch [4/5], Batch [500/540], Loss: 0.0002\n",
      "Valid Epoch [4/5], Loss: 0.0001\n",
      "Epoch [5/5], Batch [100/540], Loss: 0.0001\n",
      "Epoch [5/5], Batch [200/540], Loss: 0.0001\n",
      "Epoch [5/5], Batch [300/540], Loss: 0.0001\n",
      "Epoch [5/5], Batch [400/540], Loss: 0.0001\n",
      "Epoch [5/5], Batch [500/540], Loss: 0.0001\n",
      "Valid Epoch [5/5], Loss: 0.0001\n"
     ]
    }
   ],
   "source": [
    "# Train the model\n",
    "n_total_steps = len(train_loader)\n",
    "train_losses = []\n",
    "valid_losses = []\n",
    "\n",
    "for epoch in range(num_epochs):\n",
    "    # Training phase\n",
    "    running_loss = 0.0\n",
    "    for i, (images, labels) in enumerate(train_loader):  \n",
    "        # origin shape: [100, 1, 28, 28]\n",
    "        # resized: [100, 784]\n",
    "        images = images.reshape(-1, 28*28).to(device)\n",
    "        labels = labels.to(device)\n",
    "        \n",
    "        # Forward pass\n",
    "        outputs = model(images)\n",
    "        loss = criterion(outputs, labels)\n",
    "        \n",
    "        # Backward and optimize\n",
    "        optimizer.zero_grad()\n",
    "        loss.backward()\n",
    "        optimizer.step()\n",
    "        running_loss += loss.item()\n",
    "\n",
    "            \n",
    "        if (i + 1) % 100 == 0:\n",
    "            average_loss = running_loss / len(train_loader.dataset)\n",
    "            print(f\"Epoch [{epoch+1}/{num_epochs}], Batch [{i+1}/{n_total_steps}], Loss: {average_loss:.4f}\")\n",
    "            running_loss = 0.0\n",
    "\n",
    "    train_losses.append(average_loss)\n",
    "    \n",
    "            \n",
    "    # validation phase\n",
    "    model.eval()\n",
    "    valid_loss = 0.0\n",
    "    with torch.no_grad():\n",
    "        for images, labels in valid_loader:\n",
    "            images, labels = images.reshape(-1, 28*28).to(device), labels.to(device)\n",
    "            output = model(images)\n",
    "            loss = criterion(output, labels)\n",
    "            valid_loss += loss.item()\n",
    "            \n",
    "    average_valid_loss = valid_loss / len(valid_loader.dataset)\n",
    "    valid_losses.append(average_valid_loss)\n",
    "    print(f\"Valid Epoch [{epoch+1}/{num_epochs}], Loss: {average_valid_loss:.4f}\")\n"
   ]
  },
  {
   "cell_type": "code",
   "execution_count": 64,
   "id": "a9504b7f-e740-4389-86a3-46295ad22376",
   "metadata": {
    "tags": []
   },
   "outputs": [
    {
     "data": {
      "image/png": "[encoded data removed]",
      "text/plain": [
       "<Figure size 640x480 with 1 Axes>"
      ]
     },
     "metadata": {},
     "output_type": "display_data"
    }
   ],
   "source": [
    "plt.plot(range(1, num_epochs+1), train_losses, label='Training Loss')\n",
    "plt.plot(range(1, num_epochs+1), valid_losses, label='Validation Loss')\n",
    "plt.xlabel('Epoch')\n",
    "plt.ylabel('Loss')\n",
    "plt.title('Training and Validation Loss')\n",
    "plt.legend()\n",
    "plt.show()"
   ]
  },
  {
   "cell_type": "code",
   "execution_count": 68,
   "id": "70c90830-9a9f-4bcf-8122-c70f45b6f183",
   "metadata": {
    "tags": []
   },
   "outputs": [
    {
     "name": "stdout",
     "output_type": "stream",
     "text": [
      "Accuracy of the network on the 10000 test images: 97.64 %\n"
     ]
    }
   ],
   "source": [
    "# Test the model\n",
    "# In test phase, we don't need to compute gradients (for memory efficiency)\n",
    "with torch.no_grad():\n",
    "    n_correct = 0\n",
    "    n_samples = 0\n",
    "    for images, labels in test_loader:\n",
    "        images = images.reshape(-1, 28*28).to(device)\n",
    "        labels = labels.to(device)\n",
    "        outputs = model(images)\n",
    "        # max returns (value ,index)\n",
    "        _, predicted = torch.max(outputs.data, 1)\n",
    "        n_samples += labels.size(0)\n",
    "        n_correct += (predicted == labels).sum().item()\n",
    "\n",
    "    acc = 100.0 * n_correct / n_samples\n",
    "    print(f'Accuracy of the network on the 10000 test images: {acc} %')"
   ]
  },
  {
   "cell_type": "code",
   "execution_count": 72,
   "id": "4e903289-9449-4bee-a15f-af2df322ebc4",
   "metadata": {
    "tags": []
   },
   "outputs": [
    {
     "data": {
      "text/plain": [
       "60000"
      ]
     },
     "execution_count": 72,
     "metadata": {},
     "output_type": "execute_result"
    }
   ],
   "source": [
    "len(train_loader.dataset)"
   ]
  },
  {
   "cell_type": "code",
   "execution_count": 73,
   "id": "57194eb0-43b7-41b8-926f-297079b7ed16",
   "metadata": {
    "tags": []
   },
   "outputs": [
    {
     "data": {
      "text/plain": [
       "540"
      ]
     },
     "execution_count": 73,
     "metadata": {},
     "output_type": "execute_result"
    }
   ],
   "source": [
    "len(train_loader)"
   ]
  },
  {
   "cell_type": "code",
   "execution_count": 74,
   "id": "ad66ffd2-9f5d-45b6-bc67-6315df166930",
   "metadata": {
    "tags": []
   },
   "outputs": [
    {
     "data": {
      "text/plain": [
       "60000"
      ]
     },
     "execution_count": 74,
     "metadata": {},
     "output_type": "execute_result"
    }
   ],
   "source": [
    "len(valid_loader.dataset)"
   ]
  },
  {
   "cell_type": "code",
   "execution_count": 75,
   "id": "96072206-3dd4-4928-be0f-0e344aed1ab7",
   "metadata": {
    "tags": []
   },
   "outputs": [
    {
     "data": {
      "text/plain": [
       "60"
      ]
     },
     "execution_count": 75,
     "metadata": {},
     "output_type": "execute_result"
    }
   ],
   "source": [
    "len(valid_loader)"
   ]
  },
  {
   "cell_type": "code",
   "execution_count": null,
   "id": "7aff54f1-e367-4ef3-a2c0-d9c3502cd39f",
   "metadata": {},
   "outputs": [],
   "source": []
  }
 ],
 "metadata": {
  "kernelspec": {
   "display_name": "Pyenv",
   "language": "python",
   "name": "pyenv"
  },
  "language_info": {
   "codemirror_mode": {
    "name": "ipython",
    "version": 3
   },
   "file_extension": ".py",
   "mimetype": "text/x-python",
   "name": "python",
   "nbconvert_exporter": "python",
   "pygments_lexer": "ipython3",
   "version": "3.11.5"
  }
 },
 "nbformat": 4,
 "nbformat_minor": 5
}
