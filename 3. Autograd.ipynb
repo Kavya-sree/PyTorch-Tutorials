{
 "cells": [
  {
   "cell_type": "markdown",
   "id": "9d7dd2c0",
   "metadata": {},
   "source": [
    "\n",
    "PyTorch's `autograd` is a masterpiece. It diminishes the burden of calculating multiple partial derivatives aka gradients.\n",
    "\n",
    "`torch.autograd` provides classes and functions implementing automatic differentiation of arbitrary scalar-valued functions.\n",
    "\n",
    "Autograd is PyTorch’s automatic differentiation package. It deals with the automatic computation of gradients for computation graphs.\n",
    "\n",
    "**why we need autograd??**\n",
    "\n",
    "Calculating derivatives is the core of training deep neural networks. The calculations may be simple, but working out by hand can be tedious and prone to error. As the model becomes more complex, it becomes impractical to calculate gradients of each and every functions.\n",
    "PyTorch's autograd takes all of the tedious work from our hand\n"
   ]
  },
  {
   "cell_type": "code",
   "execution_count": 19,
   "id": "d6769897",
   "metadata": {},
   "outputs": [],
   "source": [
    "import torch"
   ]
  },
  {
   "cell_type": "code",
   "execution_count": 21,
   "id": "c46527b6",
   "metadata": {},
   "outputs": [
    {
     "data": {
      "text/plain": [
       "(tensor([5.], requires_grad=True), tensor([6.], requires_grad=True))"
      ]
     },
     "execution_count": 21,
     "metadata": {},
     "output_type": "execute_result"
    }
   ],
   "source": [
    "# create input tensors\n",
    "a = torch.tensor([5.], requires_grad=True) #Only Tensors of floating point and complex dtype can require gradients\n",
    "b = torch.tensor([6.], requires_grad=True)\n",
    "a, b"
   ]
  },
  {
   "cell_type": "markdown",
   "id": "51918898",
   "metadata": {},
   "source": [
    "By setting the flag `requires_grad=True`, PyTorch will automatically build a computation graph in the background. It means that autograd accumulates the history of the computation on the tensors."
   ]
  },
  {
   "cell_type": "code",
   "execution_count": 22,
   "id": "09a1c8d1",
   "metadata": {},
   "outputs": [
    {
     "data": {
      "text/plain": [
       "tensor([89.], grad_fn=<SubBackward0>)"
      ]
     },
     "execution_count": 22,
     "metadata": {},
     "output_type": "execute_result"
    }
   ],
   "source": [
    "y = a**3 - b**2\n",
    "y"
   ]
  },
  {
   "cell_type": "markdown",
   "id": "fcfc87f3",
   "metadata": {},
   "source": [
    "$dy/da = 3a^2 = 75$\n",
    "\n",
    "$dy/db = -2b = -12$"
   ]
  },
  {
   "cell_type": "code",
   "execution_count": 15,
   "id": "389e90bd",
   "metadata": {},
   "outputs": [
    {
     "name": "stdout",
     "output_type": "stream",
     "text": [
      "None\n",
      "None\n"
     ]
    }
   ],
   "source": [
    "print(a.grad)\n",
    "print(b.grad)"
   ]
  },
  {
   "cell_type": "markdown",
   "id": "2827086c",
   "metadata": {},
   "source": [
    "`Tensor.backward()` - Computes the gradient of current tensor w.r.t. graph leaves.\n",
    "\n",
    "so only when `y.backward()` is called the gradients backpropagate to the leaf tensors. "
   ]
  },
  {
   "cell_type": "code",
   "execution_count": 16,
   "id": "5f2341b7",
   "metadata": {},
   "outputs": [],
   "source": [
    "y.backward()"
   ]
  },
  {
   "cell_type": "markdown",
   "id": "2ab873d9",
   "metadata": {},
   "source": [
    "we can now access the gradients using the `grad` attribute."
   ]
  },
  {
   "cell_type": "code",
   "execution_count": 17,
   "id": "64c8c596",
   "metadata": {},
   "outputs": [
    {
     "data": {
      "text/plain": [
       "tensor([75.])"
      ]
     },
     "execution_count": 17,
     "metadata": {},
     "output_type": "execute_result"
    }
   ],
   "source": [
    "a.grad"
   ]
  },
  {
   "cell_type": "code",
   "execution_count": 18,
   "id": "f3dd440b",
   "metadata": {},
   "outputs": [
    {
     "data": {
      "text/plain": [
       "tensor([-12.])"
      ]
     },
     "execution_count": 18,
     "metadata": {},
     "output_type": "execute_result"
    }
   ],
   "source": [
    "b.grad"
   ]
  }
 ],
 "metadata": {
  "kernelspec": {
   "display_name": "Python 3 (ipykernel)",
   "language": "python",
   "name": "python3"
  },
  "language_info": {
   "codemirror_mode": {
    "name": "ipython",
    "version": 3
   },
   "file_extension": ".py",
   "mimetype": "text/x-python",
   "name": "python",
   "nbconvert_exporter": "python",
   "pygments_lexer": "ipython3",
   "version": "3.9.13"
  }
 },
 "nbformat": 4,
 "nbformat_minor": 5
}
